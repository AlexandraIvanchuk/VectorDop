{
 "cells": [
  {
   "cell_type": "code",
   "execution_count": 1,
   "id": "e5269f60-a31c-497a-b5c0-0c64948ab549",
   "metadata": {
    "tags": []
   },
   "outputs": [
    {
     "name": "stdout",
     "output_type": "stream",
     "text": [
      "Defaulting to user installation because normal site-packages is not writeable\n",
      "Requirement already satisfied: spacy in /home/datadisk/jupyter-ivanchuk_ad/.local/lib/python3.9/site-packages (3.8.2)\n",
      "Requirement already satisfied: langcodes<4.0.0,>=3.2.0 in /opt/tljh/user/lib/python3.9/site-packages (from spacy) (3.3.0)\n",
      "Requirement already satisfied: requests<3.0.0,>=2.13.0 in /opt/tljh/user/lib/python3.9/site-packages (from spacy) (2.28.1)\n",
      "Requirement already satisfied: thinc<8.4.0,>=8.3.0 in /home/datadisk/jupyter-ivanchuk_ad/.local/lib/python3.9/site-packages (from spacy) (8.3.2)\n",
      "Requirement already satisfied: typer<1.0.0,>=0.3.0 in /opt/tljh/user/lib/python3.9/site-packages (from spacy) (0.9.0)\n",
      "Requirement already satisfied: tqdm<5.0.0,>=4.38.0 in /opt/tljh/user/lib/python3.9/site-packages (from spacy) (4.62.3)\n",
      "Requirement already satisfied: numpy>=1.19.0 in /home/datadisk/jupyter-ivanchuk_ad/.local/lib/python3.9/site-packages (from spacy) (2.0.2)\n",
      "Requirement already satisfied: jinja2 in /opt/tljh/user/lib/python3.9/site-packages (from spacy) (3.1.2)\n",
      "Requirement already satisfied: srsly<3.0.0,>=2.4.3 in /opt/tljh/user/lib/python3.9/site-packages (from spacy) (2.4.7)\n",
      "Requirement already satisfied: preshed<3.1.0,>=3.0.2 in /opt/tljh/user/lib/python3.9/site-packages (from spacy) (3.0.8)\n",
      "Requirement already satisfied: spacy-loggers<2.0.0,>=1.0.0 in /opt/tljh/user/lib/python3.9/site-packages (from spacy) (1.0.4)\n",
      "Requirement already satisfied: cymem<2.1.0,>=2.0.2 in /opt/tljh/user/lib/python3.9/site-packages (from spacy) (2.0.7)\n",
      "Requirement already satisfied: spacy-legacy<3.1.0,>=3.0.11 in /opt/tljh/user/lib/python3.9/site-packages (from spacy) (3.0.12)\n",
      "Requirement already satisfied: setuptools in /opt/tljh/user/lib/python3.9/site-packages (from spacy) (58.2.0)\n",
      "Requirement already satisfied: murmurhash<1.1.0,>=0.28.0 in /opt/tljh/user/lib/python3.9/site-packages (from spacy) (1.0.9)\n",
      "Requirement already satisfied: packaging>=20.0 in /opt/tljh/user/lib/python3.9/site-packages (from spacy) (22.0)\n",
      "Requirement already satisfied: weasel<0.5.0,>=0.1.0 in /home/datadisk/jupyter-ivanchuk_ad/.local/lib/python3.9/site-packages (from spacy) (0.4.1)\n",
      "Requirement already satisfied: catalogue<2.1.0,>=2.0.6 in /opt/tljh/user/lib/python3.9/site-packages (from spacy) (2.0.9)\n",
      "Requirement already satisfied: wasabi<1.2.0,>=0.9.1 in /opt/tljh/user/lib/python3.9/site-packages (from spacy) (1.1.2)\n",
      "Requirement already satisfied: pydantic!=1.8,!=1.8.1,<3.0.0,>=1.7.4 in /opt/tljh/user/lib/python3.9/site-packages (from spacy) (1.10.12)\n",
      "Requirement already satisfied: typing-extensions>=4.2.0 in /home/datadisk/jupyter-ivanchuk_ad/.local/lib/python3.9/site-packages (from pydantic!=1.8,!=1.8.1,<3.0.0,>=1.7.4->spacy) (4.12.2)\n",
      "Requirement already satisfied: idna<4,>=2.5 in /opt/tljh/user/lib/python3.9/site-packages (from requests<3.0.0,>=2.13.0->spacy) (3.1)\n",
      "Requirement already satisfied: urllib3<1.27,>=1.21.1 in /opt/tljh/user/lib/python3.9/site-packages (from requests<3.0.0,>=2.13.0->spacy) (1.26.7)\n",
      "Requirement already satisfied: charset-normalizer<3,>=2 in /opt/tljh/user/lib/python3.9/site-packages (from requests<3.0.0,>=2.13.0->spacy) (2.0.0)\n",
      "Requirement already satisfied: certifi>=2017.4.17 in /opt/tljh/user/lib/python3.9/site-packages (from requests<3.0.0,>=2.13.0->spacy) (2023.5.7)\n",
      "Requirement already satisfied: blis<1.1.0,>=1.0.0 in /home/datadisk/jupyter-ivanchuk_ad/.local/lib/python3.9/site-packages (from thinc<8.4.0,>=8.3.0->spacy) (1.0.1)\n",
      "Requirement already satisfied: confection<1.0.0,>=0.0.1 in /opt/tljh/user/lib/python3.9/site-packages (from thinc<8.4.0,>=8.3.0->spacy) (0.1.0)\n",
      "Requirement already satisfied: click<9.0.0,>=7.1.1 in /opt/tljh/user/lib/python3.9/site-packages (from typer<1.0.0,>=0.3.0->spacy) (8.1.3)\n",
      "Requirement already satisfied: smart-open<8.0.0,>=5.2.1 in /opt/tljh/user/lib/python3.9/site-packages (from weasel<0.5.0,>=0.1.0->spacy) (6.3.0)\n",
      "Requirement already satisfied: cloudpathlib<1.0.0,>=0.7.0 in /home/datadisk/jupyter-ivanchuk_ad/.local/lib/python3.9/site-packages (from weasel<0.5.0,>=0.1.0->spacy) (0.20.0)\n",
      "Requirement already satisfied: MarkupSafe>=2.0 in /opt/tljh/user/lib/python3.9/site-packages (from jinja2->spacy) (2.1.3)\n"
     ]
    },
    {
     "name": "stderr",
     "output_type": "stream",
     "text": [
      "/home/datadisk/jupyter-ivanchuk_ad/.local/lib/python3.9/site-packages/torch/cuda/__init__.py:716: UserWarning: Can't initialize NVML\n",
      "  warnings.warn(\"Can't initialize NVML\")\n"
     ]
    },
    {
     "name": "stdout",
     "output_type": "stream",
     "text": [
      "/home/datadisk/jupyter-ivanchuk_ad/.local/lib/python3.9/site-packages/torch/cuda/__init__.py:716: UserWarning: Can't initialize NVML\n",
      "  warnings.warn(\"Can't initialize NVML\")\n",
      "Defaulting to user installation because normal site-packages is not writeable\n",
      "Collecting ru-core-news-sm==3.8.0\n",
      "  Downloading https://github.com/explosion/spacy-models/releases/download/ru_core_news_sm-3.8.0/ru_core_news_sm-3.8.0-py3-none-any.whl (15.3 MB)\n",
      "     |████████████████████████████████| 15.3 MB 1.1 MB/s            \n",
      "\u001b[?25hRequirement already satisfied: pymorphy3>=1.0.0 in /home/datadisk/jupyter-ivanchuk_ad/.local/lib/python3.9/site-packages (from ru-core-news-sm==3.8.0) (2.0.2)\n",
      "Requirement already satisfied: pymorphy3-dicts-ru in /home/datadisk/jupyter-ivanchuk_ad/.local/lib/python3.9/site-packages (from pymorphy3>=1.0.0->ru-core-news-sm==3.8.0) (2.4.417150.4580142)\n",
      "Requirement already satisfied: dawg-python>=0.7.1 in /home/datadisk/jupyter-ivanchuk_ad/.local/lib/python3.9/site-packages (from pymorphy3>=1.0.0->ru-core-news-sm==3.8.0) (0.7.2)\n",
      "\u001b[38;5;2m✔ Download and installation successful\u001b[0m\n",
      "You can now load the package via spacy.load('ru_core_news_sm')\n"
     ]
    }
   ],
   "source": [
    "!pip install spacy\n",
    "import spacy\n",
    "!python -m spacy download ru_core_news_sm\n",
    "nlp = spacy.load(\"ru_core_news_sm\")"
   ]
  },
  {
   "cell_type": "code",
   "execution_count": 2,
   "id": "e741f4a4-1b33-42e0-b2b0-65244907c692",
   "metadata": {
    "tags": []
   },
   "outputs": [],
   "source": [
    "import spacy"
   ]
  },
  {
   "cell_type": "code",
   "execution_count": 3,
   "id": "cb263ca9-8e3d-4c58-93ba-611b6e40e2d6",
   "metadata": {
    "tags": []
   },
   "outputs": [
    {
     "name": "stdout",
     "output_type": "stream",
     "text": [
      "[ 0.7094189   0.2361005  -0.1830546   0.10428233  0.35711113 -0.46342397\n",
      " -0.18003151  0.8335147  -0.49083406  0.3675138   0.30149233  0.19685566\n",
      " -0.8516577   0.21314903 -0.1366576   0.5622851  -0.30188337  0.24151121\n",
      " -0.08923023  0.26021394  0.2010476   0.07098414 -0.5228459   0.01910644\n",
      " -0.43844     0.02638454  0.74341595 -0.8401916   0.07326937  0.01738989\n",
      "  0.12198986 -0.18329765  0.34336883 -0.24618657  0.0809862  -0.17558992\n",
      " -0.4905203  -0.6552311  -0.39211133 -0.05572638  0.39796862  0.0778954\n",
      "  0.28604499  0.3815305   0.21154599  0.58596194  0.70742494 -0.24771647\n",
      " -0.5051232  -0.25111538 -0.53319794  0.01460498  0.07152399 -0.5891203\n",
      "  0.33826268 -0.0632417  -0.45924473 -0.14303687 -0.36625537 -0.07598362\n",
      " -0.00628826 -0.2586427   0.84890485 -0.17404051  0.6941138   0.01525909\n",
      "  0.29289538 -0.39376426  0.04583038  0.43057045 -0.4427904   0.13554946\n",
      " -0.1269578   0.06900688 -0.40210193 -0.08647939  0.25430796 -0.3584902\n",
      "  0.35060728 -0.15067898 -0.21027002 -0.66988385  0.17850852  0.37784508\n",
      "  0.2848058  -0.18951905 -0.10334703  0.47455996 -0.41214415  0.39805195\n",
      " -0.19643947  0.77633256  0.32835174  0.38087428 -0.33135694 -0.28482383]\n"
     ]
    }
   ],
   "source": [
    "Text = \"CRM-система собирает данные о клиентах из различных источников, анализирует их и предоставляет инструменты для управления этими данными.\"\n",
    "TextVector = nlp(Text).vector \n",
    "print(TextVector)"
   ]
  },
  {
   "cell_type": "code",
   "execution_count": 14,
   "id": "149a2904-0b87-4599-8046-33a0641c1c35",
   "metadata": {
    "tags": []
   },
   "outputs": [
    {
     "name": "stdout",
     "output_type": "stream",
     "text": [
      "['CRM-система', 'собирает', 'данные', 'о', 'клиентах', 'из', 'различных', 'источников,', 'анализирует', 'их', 'и', 'предоставляет', 'инструменты', 'для', 'управления', 'этими', 'данными.']\n"
     ]
    }
   ],
   "source": [
    "TextWord = Text.split()\n",
    "print(TextWord)\n",
    "Distances = []"
   ]
  },
  {
   "cell_type": "code",
   "execution_count": 15,
   "id": "ef5aa88c-2005-415b-93d7-831f8e609afd",
   "metadata": {
    "tags": []
   },
   "outputs": [],
   "source": [
    "from random import shuffle\n",
    "from scipy.spatial.distance import cosine\n",
    "\n",
    "for i in range(7):\n",
    "    shuffle(TextWord)\n",
    "    NewText = ' '.join(TextWord)\n",
    "    NewTextVector = nlp(NewText).vector\n",
    "    NewDistance = cosine(TextVector, NewTextVector) \n",
    "    Distances.append((NewText, NewDistance))"
   ]
  },
  {
   "cell_type": "code",
   "execution_count": 20,
   "id": "183adc37-ed3c-4e5e-8cb1-be188962912c",
   "metadata": {
    "tags": []
   },
   "outputs": [
    {
     "name": "stdout",
     "output_type": "stream",
     "text": [
      "Исходное предложение: CRM-система собирает данные о клиентах из различных источников, анализирует их и предоставляет инструменты для управления этими данными.\n",
      "\n",
      "Новое предложение: собирает управления и различных о CRM-система этими из предоставляет анализирует источников, клиентах данными. данные для их инструменты \n",
      "Косинусное расстояние: 0.1150\n",
      "\n",
      "\n",
      "Новое предложение: для данные и этими различных их из о анализирует инструменты управления источников, собирает клиентах CRM-система данными. предоставляет \n",
      "Косинусное расстояние: 0.0903\n",
      "\n",
      "\n",
      "Новое предложение: о инструменты источников, данными. данные CRM-система этими различных собирает анализирует и клиентах их из предоставляет управления для \n",
      "Косинусное расстояние: 0.0944\n",
      "\n",
      "\n",
      "Новое предложение: CRM-система из различных их источников, предоставляет этими о собирает инструменты данные клиентах для анализирует и управления данными. \n",
      "Косинусное расстояние: 0.0542\n",
      "\n",
      "\n",
      "Новое предложение: их предоставляет и клиентах управления различных этими данными. собирает для анализирует о CRM-система инструменты данные источников, из \n",
      "Косинусное расстояние: 0.1085\n",
      "\n",
      "\n",
      "Новое предложение: источников, данные для анализирует управления предоставляет из и CRM-система различных инструменты о клиентах собирает этими данными. их \n",
      "Косинусное расстояние: 0.1012\n",
      "\n",
      "\n",
      "Новое предложение: различных их источников, о CRM-система предоставляет данными. и управления анализирует инструменты этими из собирает клиентах данные для \n",
      "Косинусное расстояние: 0.0950\n",
      "\n"
     ]
    }
   ],
   "source": [
    "print(\"Исходное предложение:\", Text)\n",
    "for NewText, NewDistance in Distances:\n",
    "    print(f\"\\nНовое предложение: {NewText} \\nКосинусное расстояние: {NewDistance:.4f}\\n\")"
   ]
  },
  {
   "cell_type": "code",
   "execution_count": 24,
   "id": "1de8fa93-3c6f-49a9-8780-e0ef739681cd",
   "metadata": {
    "tags": []
   },
   "outputs": [
    {
     "name": "stdout",
     "output_type": "stream",
     "text": [
      "Defaulting to user installation because normal site-packages is not writeable\n",
      "Collecting https://github.com/explosion/spacy-models/releases/download/ru_core_news_md-3.8.0/ru_core_news_md-3.8.0.tar.gz\n",
      "  Downloading https://github.com/explosion/spacy-models/releases/download/ru_core_news_md-3.8.0/ru_core_news_md-3.8.0.tar.gz (41.6 MB)\n",
      "     |████████████████████████████████| 41.6 MB 71 kB/s             \n",
      "\u001b[?25h  Preparing metadata (setup.py) ... \u001b[?25ldone\n",
      "\u001b[?25hRequirement already satisfied: pymorphy3>=1.0.0 in /home/datadisk/jupyter-ivanchuk_ad/.local/lib/python3.9/site-packages (from ru-core-news-md==3.8.0) (2.0.2)\n",
      "Requirement already satisfied: dawg-python>=0.7.1 in /home/datadisk/jupyter-ivanchuk_ad/.local/lib/python3.9/site-packages (from pymorphy3>=1.0.0->ru-core-news-md==3.8.0) (0.7.2)\n",
      "Requirement already satisfied: pymorphy3-dicts-ru in /home/datadisk/jupyter-ivanchuk_ad/.local/lib/python3.9/site-packages (from pymorphy3>=1.0.0->ru-core-news-md==3.8.0) (2.4.417150.4580142)\n",
      "Building wheels for collected packages: ru-core-news-md\n",
      "  Building wheel for ru-core-news-md (setup.py) ... \u001b[?25ldone\n",
      "\u001b[?25h  Created wheel for ru-core-news-md: filename=ru_core_news_md-3.8.0-py3-none-any.whl size=41884188 sha256=efb8113f1e5694194513e3b13d436eedfc1653912dbf335c68f3149cee91e780\n",
      "  Stored in directory: /home/datadisk/jupyter-ivanchuk_ad/.cache/pip/wheels/83/c9/c9/070159b67165a8849241afec1fe68acdb56165ebf89f1f92c0\n",
      "Successfully built ru-core-news-md\n",
      "Installing collected packages: ru-core-news-md\n",
      "Successfully installed ru-core-news-md-3.8.0\n",
      "Defaulting to user installation because normal site-packages is not writeable\n",
      "Collecting https://github.com/explosion/spacy-models/releases/download/ru_core_news_lg-3.8.0/ru_core_news_lg-3.8.0.tar.gz\n",
      "  Downloading https://github.com/explosion/spacy-models/releases/download/ru_core_news_lg-3.8.0/ru_core_news_lg-3.8.0.tar.gz (513.0 MB)\n",
      "     |████████████████████████████████| 513.0 MB 34 kB/s               \n",
      "\u001b[?25h  Preparing metadata (setup.py) ... \u001b[?25ldone\n",
      "\u001b[?25hRequirement already satisfied: pymorphy3>=1.0.0 in /home/datadisk/jupyter-ivanchuk_ad/.local/lib/python3.9/site-packages (from ru-core-news-lg==3.8.0) (2.0.2)\n",
      "Requirement already satisfied: dawg-python>=0.7.1 in /home/datadisk/jupyter-ivanchuk_ad/.local/lib/python3.9/site-packages (from pymorphy3>=1.0.0->ru-core-news-lg==3.8.0) (0.7.2)\n",
      "Requirement already satisfied: pymorphy3-dicts-ru in /home/datadisk/jupyter-ivanchuk_ad/.local/lib/python3.9/site-packages (from pymorphy3>=1.0.0->ru-core-news-lg==3.8.0) (2.4.417150.4580142)\n",
      "Building wheels for collected packages: ru-core-news-lg\n",
      "  Building wheel for ru-core-news-lg (setup.py) ... \u001b[?25ldone\n",
      "\u001b[?25h  Created wheel for ru-core-news-lg: filename=ru_core_news_lg-3.8.0-py3-none-any.whl size=513369877 sha256=a7fd6298dd25cacb935067431435787f21df9f9bcfa022e88a88063f2a30dfb5\n",
      "  Stored in directory: /home/datadisk/jupyter-ivanchuk_ad/.cache/pip/wheels/3a/b0/9c/a77a4c2b7233f508d07ed95f61de110ca7194bc78315900aa0\n",
      "Successfully built ru-core-news-lg\n",
      "Installing collected packages: ru-core-news-lg\n",
      "Successfully installed ru-core-news-lg-3.8.0\n"
     ]
    }
   ],
   "source": [
    "!pip install https://github.com/explosion/spacy-models/releases/download/ru_core_news_md-3.8.0/ru_core_news_md-3.8.0.tar.gz\n",
    "!pip install https://github.com/explosion/spacy-models/releases/download/ru_core_news_lg-3.8.0/ru_core_news_lg-3.8.0.tar.gz\n",
    "SrModel = spacy.load(\"ru_core_news_md\")\n",
    "BigModel = spacy.load(\"ru_core_news_lg\")"
   ]
  },
  {
   "cell_type": "code",
   "execution_count": 25,
   "id": "017b415b-4c25-4378-84f3-79827892110f",
   "metadata": {
    "tags": []
   },
   "outputs": [],
   "source": [
    "SrVector = SrModel(Text).vector\n",
    "BigVector = BigModel(Text).vector\n",
    "ModelsDistance = cosine(SrVector, BigVector)"
   ]
  },
  {
   "cell_type": "code",
   "execution_count": 26,
   "id": "4971c2f2-afdb-4e20-9f6b-c77d9ba15882",
   "metadata": {
    "tags": []
   },
   "outputs": [
    {
     "name": "stdout",
     "output_type": "stream",
     "text": [
      "Исходное предложение: CRM-система собирает данные о клиентах из различных источников, анализирует их и предоставляет инструменты для управления этими данными.\n",
      "Косинусное расстояние между средней и большой моделью: 0.3872\n"
     ]
    }
   ],
   "source": [
    "print(\"Исходное предложение:\", Text)\n",
    "print(f\"Косинусное расстояние между средней и большой моделью: {ModelsDistance:.4f}\")"
   ]
  },
  {
   "cell_type": "code",
   "execution_count": null,
   "id": "f5b2cf27-72bb-49c9-80bb-ff5e9010e3e4",
   "metadata": {},
   "outputs": [],
   "source": []
  }
 ],
 "metadata": {
  "kernelspec": {
   "display_name": "Alexandra",
   "language": "python",
   "name": "ivanchuk_ad"
  },
  "language_info": {
   "codemirror_mode": {
    "name": "ipython",
    "version": 3
   },
   "file_extension": ".py",
   "mimetype": "text/x-python",
   "name": "python",
   "nbconvert_exporter": "python",
   "pygments_lexer": "ipython3",
   "version": "3.9.7"
  }
 },
 "nbformat": 4,
 "nbformat_minor": 5
}
